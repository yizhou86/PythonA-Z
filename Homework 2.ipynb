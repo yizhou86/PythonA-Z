{
 "cells": [
  {
   "cell_type": "code",
   "execution_count": 9,
   "metadata": {},
   "outputs": [
    {
     "name": "stdout",
     "output_type": "stream",
     "text": [
      "Mean =  0.11365116540836763\n",
      "Chance =  0.7\n"
     ]
    }
   ],
   "source": [
    "import numpy as np\n",
    "from numpy.random import randn\n",
    "\n",
    "n = 100\n",
    "sum_x = 0\n",
    "chance = 0\n",
    "\n",
    "for i in range(n):\n",
    "    x = randn()\n",
    "    sum_x += x\n",
    "    if x <= 1 and x >= -1:\n",
    "        chance += 1\n",
    "\n",
    "mean = sum_x/n\n",
    "chance = chance/n\n",
    "\n",
    "print(\"Mean = \", mean)\n",
    "print(\"Chance = \",chance)         "
   ]
  },
  {
   "cell_type": "code",
   "execution_count": 8,
   "metadata": {},
   "outputs": [
    {
     "name": "stdout",
     "output_type": "stream",
     "text": [
      "Mean =  0.23282208829709908\n",
      "Chance =  0.73\n"
     ]
    }
   ],
   "source": [
    "import numpy as np\n",
    "from numpy.random import randn\n",
    "\n",
    "n = 100\n",
    "sum_x = 0\n",
    "chance = 0\n",
    "\n",
    "for i in randn(n):\n",
    "    sum_x += i\n",
    "    if i <= 1 and i >= -1:\n",
    "        chance += 1\n",
    "\n",
    "mean = sum_x/n\n",
    "chance = chance/n\n",
    "\n",
    "print(\"Mean = \", mean)\n",
    "print(\"Chance = \",chance)   "
   ]
  },
  {
   "cell_type": "code",
   "execution_count": null,
   "metadata": {},
   "outputs": [],
   "source": []
  }
 ],
 "metadata": {
  "kernelspec": {
   "display_name": "Python 3",
   "language": "python",
   "name": "python3"
  },
  "language_info": {
   "codemirror_mode": {
    "name": "ipython",
    "version": 3
   },
   "file_extension": ".py",
   "mimetype": "text/x-python",
   "name": "python",
   "nbconvert_exporter": "python",
   "pygments_lexer": "ipython3",
   "version": "3.8.5"
  }
 },
 "nbformat": 4,
 "nbformat_minor": 4
}
