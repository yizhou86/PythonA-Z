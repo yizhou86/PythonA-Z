{
 "cells": [
  {
   "cell_type": "code",
   "execution_count": 37,
   "metadata": {},
   "outputs": [],
   "source": [
    "#Data \n",
    "revenue = [14574.49, 7606.46, 8611.41, 9175.41, 8058.65, 8105.44, 11496.28, 9766.09, 10305.32, 14379.96, 10713.97, 15433.50]\n",
    "expenses = [12051.82, 5695.07, 12319.20, 12089.72, 8658.57, 840.20, 3285.73, 5821.12, 6976.93, 16618.61, 10054.37, 3803.96]"
   ]
  },
  {
   "cell_type": "code",
   "execution_count": 49,
   "metadata": {},
   "outputs": [
    {
     "name": "stdout",
     "output_type": "stream",
     "text": [
      "Profit:  [3, 2, -4, -3, -1, 7, 8, 4, 3, -2, 1, 12]\n",
      "Profit after Tax:  [2, 1, -3, -2, 0, 5, 6, 3, 2, -2, 0, 8]\n",
      "Profit Margin:  [12, 18, -30, -22, -5, 63, 50, 28, 23, -11, 4, 53]\n",
      "Good Months:  [True, False, False, False, False, True, True, True, True, False, False, True]\n",
      "Bad Months:  [False, True, True, True, True, False, False, False, False, True, True, False]\n",
      "Best Month:  [False, False, False, False, False, False, False, False, False, False, False, True]\n",
      "Worst Month:  [False, False, True, False, False, False, False, False, False, False, False, False]\n"
     ]
    }
   ],
   "source": [
    "import numpy as np\n",
    "\n",
    "length =  len(revenue)\n",
    "\n",
    "profit = []\n",
    "profitaftax = []\n",
    "profitmgn = []\n",
    "good_months = []\n",
    "bad_months = []\n",
    "best_month = []\n",
    "worst_month = []\n",
    "\n",
    "for i in range(length):\n",
    "    profit.append(revenue[i]-expenses[i])\n",
    "    profitaftax.append(profit[i]*(1-0.3))\n",
    "    profitmgn.append(profitaftax[i]/revenue[i])\n",
    "   \n",
    "profitaftax_mean = np.array(profitaftax).mean()\n",
    "profitaftax_max = max(np.array(profitaftax))\n",
    "profitaftax_min = min(np.array(profitaftax))\n",
    "\n",
    "for i in range(length):\n",
    "    good_months.append(profitaftax[i]>profitaftax_mean)\n",
    "    bad_months.append(profitaftax[i]<profitaftax_mean)\n",
    "    best_month.append(profitaftax[i]==profitaftax_max)\n",
    "    worst_month.append(profitaftax[i]==profitaftax_min)\n",
    "\n",
    "profit_rounded = [round(i/1000) for i in profit]\n",
    "profitaftax_rounded  =[round(i/1000) for i in profitaftax]\n",
    "profitmgn_rounded = [round(i*100) for i in profitmgn]\n",
    "\n",
    "print(\"Profit: \", profit_rounded)\n",
    "print(\"Profit after Tax: \", profitaftax_rounded)\n",
    "print(\"Profit Margin: \", profitmgn_rounded)\n",
    "print(\"Good Months: \", good_months)\n",
    "print(\"Bad Months: \", bad_months)\n",
    "print(\"Best Month: \", best_month)\n",
    "print(\"Worst Month: \", worst_month)"
   ]
  },
  {
   "cell_type": "code",
   "execution_count": null,
   "metadata": {},
   "outputs": [],
   "source": []
  }
 ],
 "metadata": {
  "kernelspec": {
   "display_name": "Python 3",
   "language": "python",
   "name": "python3"
  },
  "language_info": {
   "codemirror_mode": {
    "name": "ipython",
    "version": 3
   },
   "file_extension": ".py",
   "mimetype": "text/x-python",
   "name": "python",
   "nbconvert_exporter": "python",
   "pygments_lexer": "ipython3",
   "version": "3.8.5"
  }
 },
 "nbformat": 4,
 "nbformat_minor": 1
}
